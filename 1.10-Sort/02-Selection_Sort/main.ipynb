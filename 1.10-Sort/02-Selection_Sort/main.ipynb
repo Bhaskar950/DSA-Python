{
 "cells": [
  {
   "cell_type": "code",
   "execution_count": 7,
   "id": "4a863d61-a6a8-46e0-9559-38ebe791f0a6",
   "metadata": {},
   "outputs": [
    {
     "name": "stdout",
     "output_type": "stream",
     "text": [
      "[1, 3, 4, 12]\n"
     ]
    }
   ],
   "source": [
    "# selection sort\n",
    "\n",
    "def selection_sort(l):\n",
    "    n = len(l)\n",
    "    for i in range(n-1):\n",
    "        min_index = i\n",
    "        for j in range(i+1,n):\n",
    "            if l[j] < l[min_index]:\n",
    "                min_index = j\n",
    "        if i != min_index:\n",
    "            l[i], l[min_index] = l[min_index],l[i]\n",
    "    return l\n",
    "\n",
    "l = [4,3,12,1]\n",
    "print(selection_sort(l))"
   ]
  },
  {
   "cell_type": "code",
   "execution_count": null,
   "id": "423db6ae-8344-40c6-b911-109151ff21ef",
   "metadata": {},
   "outputs": [],
   "source": []
  },
  {
   "cell_type": "code",
   "execution_count": null,
   "id": "63667313-1882-44be-a666-1cf3abf7fa8f",
   "metadata": {},
   "outputs": [],
   "source": []
  },
  {
   "cell_type": "code",
   "execution_count": null,
   "id": "1eee0d5e-e68f-442e-a619-d19bc7e432d0",
   "metadata": {},
   "outputs": [],
   "source": []
  }
 ],
 "metadata": {
  "kernelspec": {
   "display_name": "Python 3 (ipykernel)",
   "language": "python",
   "name": "python3"
  },
  "language_info": {
   "codemirror_mode": {
    "name": "ipython",
    "version": 3
   },
   "file_extension": ".py",
   "mimetype": "text/x-python",
   "name": "python",
   "nbconvert_exporter": "python",
   "pygments_lexer": "ipython3",
   "version": "3.12.4"
  }
 },
 "nbformat": 4,
 "nbformat_minor": 5
}
